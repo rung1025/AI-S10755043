{
  "nbformat": 4,
  "nbformat_minor": 0,
  "metadata": {
    "colab": {
      "name": "conferfile.ipynb",
      "provenance": [],
      "authorship_tag": "ABX9TyN/Dw3hyhudjnAwrKwFV0bV",
      "include_colab_link": true
    },
    "kernelspec": {
      "name": "python3",
      "display_name": "Python 3"
    },
    "language_info": {
      "name": "python"
    }
  },
  "cells": [
    {
      "cell_type": "markdown",
      "metadata": {
        "id": "view-in-github",
        "colab_type": "text"
      },
      "source": [
        "<a href=\"https://colab.research.google.com/github/rung1025/AI-S10755043/blob/main/%E7%AC%AC%E4%B8%83%E7%B5%84%E6%9C%9F%E6%9C%ABconferfile.ipynb\" target=\"_parent\"><img src=\"https://colab.research.google.com/assets/colab-badge.svg\" alt=\"Open In Colab\"/></a>"
      ]
    },
    {
      "cell_type": "code",
      "metadata": {
        "id": "Ic89-sl1K1kr"
      },
      "source": [
        "import os\n",
        "import shutil\n",
        "from bs4 import BeautifulSoup\n",
        "\n",
        "def run_convert(all_classes, train_img, train_annotation, yolo_path, write_txt):\n",
        "    now_path = os.getcwd()\n",
        "    data_counter = 0\n",
        "\n",
        "    for data_file in os.listdir(train_annotation):\n",
        "        try:\n",
        "            with open(os.path.join(images, labels), 'r') as f:\n",
        "                print(\"read file...\")\n",
        "                soup = BeautifulSoup(f.read(), 'xml')\n",
        "                img_name = soup.select_one('filename').text\n",
        "\n",
        "                for size in soup.select('size'):\n",
        "                    img_w = int(size.select_one('width').text)\n",
        "                    img_h = int(size.select_one('height').text)\n",
        "                    \n",
        "                img_info = []\n",
        "                for obj in soup.select('object'):\n",
        "                    xmin = int(obj.select_one('xmin').text)\n",
        "                    xmax = int(obj.select_one('xmax').text)\n",
        "                    ymin = int(obj.select_one('ymin').text)\n",
        "                    ymax = int(obj.select_one('ymax').text)\n",
        "                    objclass = all_classes.get(obj.select_one('name').text)\n",
        "\n",
        "                    x = (xmin + (xmax-xmin)/2) * 1.0 / img_w\n",
        "                    y = (ymin + (ymax-ymin)/2) * 1.0 / img_h\n",
        "                    w = (xmax-xmin) * 1.0 / img_w\n",
        "                    h = (ymax-ymin) * 1.0 / img_h\n",
        "                    img_info.append(' '.join([str(objclass), str(x),str(y),str(w),str(h)]))\n",
        "\n",
        "                # copy image to yolo path and rename\n",
        "                img_path = os.path.join(train_img, img_name)\n",
        "                img_format = img_name.split('.')[1]  # jpg or png\n",
        "                shutil.copyfile(img_path, yolo_path + str(data_counter) + '.' + img_format)\n",
        "                \n",
        "                # create yolo bndbox txt\n",
        "                with open(yolo_path + str(data_counter) + '.txt', 'a+') as f:\n",
        "                    f.write('\\n'.join(img_info))\n",
        "\n",
        "                # create train or val txt\n",
        "                with open(write_txt, 'a') as f:\n",
        "                    path = os.path.join(now_path, yolo_path)\n",
        "                    line_txt = [path + str(data_counter) + '.' + img_format, '\\n']\n",
        "                    f.writelines(line_txt)\n",
        "\n",
        "                data_counter += 1\n",
        "                    \n",
        "        except Exception as e:\n",
        "            print(e)\n",
        "           \n",
        "    print('the file is processed')\n",
        "\n",
        "\n",
        "all_classes = {'good': 2, 'bad': 1, 'none': 0}\n",
        "train_img = \"train/image\"\n",
        "train_annotation = \"train/annotation\"\n",
        "yolo_path = \"yolo_train/\"\n",
        "write_txt = 'cfg/train.txt'\n",
        "\n",
        "if not os.path.exists(yolo_path):\n",
        "    os.mkdir(yolo_path)\n",
        "else:\n",
        "    lsdir = os.listdir(yolo_path)\n",
        "    for name in lsdir:\n",
        "        if name.endswith('.txt') or name.endswith('.jpg') or name.endswith('.png'):\n",
        "            os.remove(os.path.join(yolo_path, name))\n",
        "\n",
        "cfg_file = write_txt.split('/')[0]\n",
        "if not os.path.exists(cfg_file):\n",
        "    os.mkdir(cfg_file)\n",
        "    \n",
        "if os.path.exists(write_txt):\n",
        "    file=open(write_txt, 'w')\n",
        "\n",
        "run_convert(all_classes, train_img, train_annotation, yolo_path, write_txt)"
      ],
      "execution_count": null,
      "outputs": []
    }
  ]
}